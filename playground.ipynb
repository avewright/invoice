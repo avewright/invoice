{
 "cells": [
  {
   "cell_type": "code",
   "execution_count": 4,
   "id": "ad684fce",
   "metadata": {},
   "outputs": [],
   "source": [
    "import requests\n",
    "\n",
    "def post_ocr_batch(image_path: str, url: str = \"https://efn8riqpu4ni8e-8000.proxy.runpod.net/ocr-batch\"):\n",
    "    \"\"\"\n",
    "    Sends a POST request to the OCR batch endpoint with the given image file.\n",
    "\n",
    "    Args:\n",
    "        image_path (str): Path to the image file to upload.\n",
    "        url (str): The OCR batch endpoint URL.\n",
    "\n",
    "    Returns:\n",
    "        requests.Response: The response object from the server.\n",
    "    \"\"\"\n",
    "    with open(image_path, \"rb\") as f:\n",
    "        files = {'files': (image_path, f, 'image/png')}\n",
    "        headers = {\n",
    "            'accept': 'application/json'\n",
    "        }\n",
    "        response = requests.post(url, headers=headers, files=files)\n",
    "    return response\n"
   ]
  },
  {
   "cell_type": "code",
   "execution_count": 19,
   "id": "0fe6c707",
   "metadata": {},
   "outputs": [],
   "source": [
    "paddle = post_ocr_batch(r\"construction-invoice-template-1x.png\")"
   ]
  },
  {
   "cell_type": "code",
   "execution_count": 20,
   "id": "27f5e8ac",
   "metadata": {},
   "outputs": [
    {
     "data": {
      "text/plain": [
       "<Response [200]>"
      ]
     },
     "execution_count": 20,
     "metadata": {},
     "output_type": "execute_result"
    }
   ],
   "source": [
    "paddle"
   ]
  },
  {
   "cell_type": "code",
   "execution_count": 14,
   "id": "70ecfb2d",
   "metadata": {},
   "outputs": [],
   "source": [
    "import requests\n",
    "\n",
    "def generate_text(prompt: str, system: str = \"You are Qwen, created by Alibaba Cloud. You are a helpful assistant.\", max_new_tokens: int = 512, url: str = \"http://localhost:8000/generate\"):\n",
    "    \"\"\"\n",
    "    Sends a POST request to the /generate endpoint of the FastAPI server.\n",
    "\n",
    "    Args:\n",
    "        prompt (str): The prompt to send to the model.\n",
    "        system (str): The system prompt.\n",
    "        max_new_tokens (int): Maximum number of new tokens to generate.\n",
    "        url (str): The endpoint URL.\n",
    "\n",
    "    Returns:\n",
    "        dict: The JSON response from the server.\n",
    "    \"\"\"\n",
    "    headers = {\n",
    "        \"accept\": \"application/json\",\n",
    "        \"Content-Type\": \"application/json\"\n",
    "    }\n",
    "    payload = {\n",
    "        \"prompt\": prompt,\n",
    "        \"system\": system,\n",
    "        \"max_new_tokens\": max_new_tokens\n",
    "    }\n",
    "    response = requests.post(url, headers=headers, json=payload)\n",
    "    response.raise_for_status()\n",
    "    return response.json()"
   ]
  },
  {
   "cell_type": "code",
   "execution_count": 22,
   "id": "e5f6b5b9",
   "metadata": {},
   "outputs": [
    {
     "data": {
      "text/plain": [
       "'[{\"filename\":\"construction-invoice-template-1x.png\",\"result\":{\"rec_texts\":[\"Zylker Masterworks\",\"14B, Northern Street\",\"Greater South Avenue\",\"量\",\"New York 10001\",\"U.S.A\",\"INVOICE\",\"Invoice#\",\"Bill To\",\"INV-000001\",\"Michael Williams\",\"789 Oak Ave\",\"Chicago\",\"60601IL\",\"United States\",\"Invoice Date\",\"Terms\",\"Due Date\",\"01 Jun 2024\",\"Net 30\",\"O1 Jul 2024\",\"井\",\"Item & Description\",\"Qty\",\"Rate\",\"Tax%\",\"Amount\",\"1\",\"Deck and patio construction\",\"80.00\",\"21.00\",\"10.00\",\"1,680.00\",\"Pressure-treated composite decking\",\"Square feet\",\"2\",\"Fixture installation\",\"7.00\",\"150.00\",\"10.00\",\"1,050.00\",\"(Sinks, toilets, showers)\",\"Piece\",\"3\",\"Air conditioning systems installation\",\"1.00\",\"3,750.00\",\"10.00\",\"3,750.00\",\"Heating, ventilation, and air conditioning installation\",\"Sub Total\",\"6,480.00\",\"Thanks for your business.\",\"Discount(6.00%)\",\"(-)388.80\",\"Shipping charge\",\"500.00\",\"Total\",\"$7,200.32\",\"Balance Due\",\"$7,200.32\",\"Terms & Conditions\",\"All services provided are subject to the terms and conditions outlined in the contract agreement or engagement letter.\"],\"rec_boxes\":[[982,135,1214,162],[985,176,1214,200],[961,212,1209,237],[248,255,263,268],[1028,247,1211,274],[1144,282,1216,311],[579,340,716,375],[1130,425,1216,449],[82,437,157,469],[1062,456,1214,480],[84,476,286,503],[83,517,229,547],[83,553,185,585],[83,589,188,617],[84,626,240,653],[100,711,222,735],[472,709,539,737],[856,709,948,736],[107,774,223,798],[474,773,544,798],[858,775,965,796],[107,864,123,886],[182,863,361,889],[737,861,780,891],[869,864,918,887],[1000,862,1055,888],[1110,862,1194,889],[108,938,125,960],[183,938,449,961],[714,936,779,961],[858,936,918,962],[994,936,1054,962],[1104,937,1192,962],[184,970,520,990],[669,969,778,990],[105,1064,126,1090],[184,1067,355,1087],[729,1063,780,1089],[845,1066,916,1088],[993,1064,1054,1090],[1103,1065,1192,1090],[185,1099,400,1121],[719,1095,780,1123],[105,1195,127,1220],[184,1196,521,1219],[731,1196,779,1219],[826,1196,917,1220],[993,1195,1054,1220],[1101,1195,1192,1220],[183,1229,667,1249],[845,1301,936,1326],[1099,1302,1191,1326],[85,1335,322,1360],[776,1353,935,1377],[1100,1354,1191,1379],[777,1405,935,1432],[1116,1407,1190,1429],[881,1455,937,1480],[1088,1455,1191,1480],[810,1506,936,1533],[1086,1507,1189,1532],[85,1653,307,1677],[86,1688,1173,1712]],\"rec_scores\":[0.9907779693603516,0.9928542971611023,0.9618854522705078,0.10719124972820282,0.964645266532898,0.9966413378715515,0.9994056820869446,0.9931552410125732,0.9164949655532837,0.9992132186889648,0.9704631567001343,0.9457101821899414,0.9992412328720093,0.9985173344612122,0.9913657307624817,0.997039258480072,0.9991163015365601,0.9902913570404053,0.9488990902900696,0.9649603366851807,0.9520766735076904,0.47874248027801514,0.9834607243537903,0.9987964630126953,0.9997159242630005,0.9957873821258545,0.9990128874778748,0.9991430044174194,0.9759502410888672,0.9984451532363892,0.9764230847358704,0.9987658262252808,0.9936987161636353,0.9863861203193665,0.9751724600791931,0.9948315620422363,0.98655766248703,0.9966999888420105,0.9993218779563904,0.9986327886581421,0.9944616556167603,0.9967207312583923,0.988545298576355,0.996101975440979,0.9704397320747375,0.9981868863105774,0.9928188323974609,0.9989792704582214,0.992417573928833,0.9799360632896423,0.9849032163619995,0.994520902633667,0.9804791808128357,0.9978078603744507,0.9780333042144775,0.9708645939826965,0.9994141459465027,0.9989331960678101,0.9902222156524658,0.9948561191558838,0.9902222156524658,0.9847521185874939,0.9872912168502808]}}]'"
      ]
     },
     "execution_count": 22,
     "metadata": {},
     "output_type": "execute_result"
    }
   ],
   "source": [
    "paddle.text"
   ]
  },
  {
   "cell_type": "code",
   "execution_count": 23,
   "id": "840001b7",
   "metadata": {},
   "outputs": [],
   "source": [
    "llm_response = generate_text(f\"Extract key data given this invoice data: {paddle.text}\")"
   ]
  },
  {
   "cell_type": "code",
   "execution_count": 24,
   "id": "9588affb",
   "metadata": {},
   "outputs": [
    {
     "data": {
      "text/plain": [
       "{'response': 'Based on the provided invoice data, here are the key details extracted:\\n\\n1. **Invoice Information:**\\n   - Invoice Number: INV-000001\\n   - Invoice Date: 01 Jun 2024\\n\\n2. **Billing Address:**\\n   - Company Name: Zylker Masterworks\\n   - Address: 14B, Northern Street, Greater South Avenue, New York 10001, U.S.A\\n\\n3. **Bill To:**\\n   - Name: Michael Williams\\n   - Address: 789 Oak Ave, Chicago, IL 60601, United States\\n\\n4. **Payment Terms:**\\n   - Terms: Net 30\\n   - Due Date: 01 Jul 2024\\n\\n5. **Items and Services:**\\n   - **Deck and patio construction**: 80.00 square feet at $21.00 per square foot (Tax 10%) = $1,680.00\\n   - **Pressure-treated composite decking**: 2 square feet at $21.00 per square foot (Tax 10%) = $1,050.00\\n   - **Fixture installation**: 7 pieces at $150.00 each (Tax 10%) = $1,050.00\\n   - **Air conditioning systems installation**: 1 unit at $3,750.00 (Tax 10%) = $3,750.00\\n\\n6. **Sub Total**: $6,480.00\\n\\n7. **Discount (6.00%)**: -$388.80\\n\\n8. **Shipping Charge**: $500.00\\n\\n9. **Total**: $7,200.32\\n\\n10. **Balance Due**: $7,200.32\\n\\n11. **Terms & Conditions**: All services provided are subject to the terms and conditions outlined in the contract agreement or engagement letter.\\n\\nThis summary includes the essential information from the invoice, such as the invoice number, billing and customer addresses, payment terms, detailed items and their costs, total amounts, and any applicable discounts or charges.'}"
      ]
     },
     "execution_count": 24,
     "metadata": {},
     "output_type": "execute_result"
    }
   ],
   "source": [
    "llm_response"
   ]
  },
  {
   "cell_type": "code",
   "execution_count": null,
   "id": "ff5dac42",
   "metadata": {},
   "outputs": [],
   "source": []
  }
 ],
 "metadata": {
  "kernelspec": {
   "display_name": ".venv",
   "language": "python",
   "name": "python3"
  },
  "language_info": {
   "codemirror_mode": {
    "name": "ipython",
    "version": 3
   },
   "file_extension": ".py",
   "mimetype": "text/x-python",
   "name": "python",
   "nbconvert_exporter": "python",
   "pygments_lexer": "ipython3",
   "version": "3.11.11"
  }
 },
 "nbformat": 4,
 "nbformat_minor": 5
}
